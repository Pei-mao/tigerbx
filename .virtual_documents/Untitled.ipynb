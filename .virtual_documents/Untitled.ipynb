import tigerbx


tigerbx.gdm





tigerbx.gdm(r"C:\expdata\gdm\IXI002-Guys-0828-DTI-00.nii.gz", output=None, b0_index=0, dmap=False, no_resample=False, GPU=False)


!pip uninstall tigerbx


!pip uninstall -y tigerbx


tigerbx.gdm(r"C:\expdata\gdm\IXI002-Guys-0828-DTI-00.nii.gz")



