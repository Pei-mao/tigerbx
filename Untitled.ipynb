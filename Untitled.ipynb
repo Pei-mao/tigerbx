{
 "cells": [
  {
   "cell_type": "code",
   "execution_count": 1,
   "id": "0cd6cca1-6871-4e0b-ac2a-e0aa7687cb05",
   "metadata": {},
   "outputs": [],
   "source": [
    "import tigerbx"
   ]
  },
  {
   "cell_type": "code",
   "execution_count": 2,
   "id": "8fbe07da-6371-491c-8550-16ef8c92f629",
   "metadata": {},
   "outputs": [
    {
     "data": {
      "text/plain": [
       "<function tigerbx.gdm.gdm(input, output=None, b0_index=0, dmap=False, no_resample=False, GPU=False)>"
      ]
     },
     "execution_count": 2,
     "metadata": {},
     "output_type": "execute_result"
    }
   ],
   "source": [
    "tigerbx.gdm"
   ]
  },
  {
   "cell_type": "code",
   "execution_count": null,
   "id": "efc0c012-ff59-4b67-bd1b-71660e4a3466",
   "metadata": {},
   "outputs": [],
   "source": []
  },
  {
   "cell_type": "code",
   "execution_count": 3,
   "id": "d697bd54-3a36-4faa-80b8-8b66c4677c27",
   "metadata": {},
   "outputs": [
    {
     "name": "stdout",
     "output_type": "stream",
     "text": [
      "Total nii files: 1\n",
      "Predicting: C:\\expdata\\gdm\\IXI002-Guys-0828-DTI-00.nii.gz\n",
      "Writing output file:  C:\\expdata\\gdm\\IXI002-Guys-0828-DTI-00_vdmi.nii.gz\n",
      "Processing time: 5 seconds\n"
     ]
    }
   ],
   "source": [
    "tigerbx.gdm(r\"C:\\expdata\\gdm\\IXI002-Guys-0828-DTI-00.nii.gz\", output=None, b0_index=0, dmap=False, no_resample=False, GPU=False)"
   ]
  },
  {
   "cell_type": "code",
   "execution_count": null,
   "id": "ee6b33c6-1fb0-4246-9123-1d8cdce24b6f",
   "metadata": {},
   "outputs": [],
   "source": [
    "!pip uninstall tigerbx"
   ]
  },
  {
   "cell_type": "code",
   "execution_count": null,
   "id": "d7245fd0-5c4f-4ccc-87c6-3c1cd8ad87c4",
   "metadata": {},
   "outputs": [],
   "source": [
    "!pip uninstall -y tigerbx"
   ]
  },
  {
   "cell_type": "code",
   "execution_count": null,
   "id": "a7361fa5-4660-42db-aa1c-dc0ea16449bf",
   "metadata": {},
   "outputs": [],
   "source": []
  },
  {
   "cell_type": "code",
   "execution_count": null,
   "id": "adffe767-6f35-4d1a-85a6-a0e159fc3cf9",
   "metadata": {},
   "outputs": [],
   "source": []
  }
 ],
 "metadata": {
  "kernelspec": {
   "display_name": "Python 3 (ipykernel)",
   "language": "python",
   "name": "python3"
  },
  "language_info": {
   "codemirror_mode": {
    "name": "ipython",
    "version": 3
   },
   "file_extension": ".py",
   "mimetype": "text/x-python",
   "name": "python",
   "nbconvert_exporter": "python",
   "pygments_lexer": "ipython3",
   "version": "3.11.5"
  }
 },
 "nbformat": 4,
 "nbformat_minor": 5
}
